{
 "cells": [
  {
   "cell_type": "code",
   "execution_count": 1,
   "id": "99aae1c2",
   "metadata": {},
   "outputs": [],
   "source": [
    "import pandas as pd\n",
    "import numpy as np\n",
    "import math\n",
    "from time import time\n",
    "import matplotlib.pyplot as plt\n",
    "from mlxtend.plotting import scatterplotmatrix\n",
    "from mlxtend.plotting import heatmap\n",
    "from sklearn.preprocessing import StandardScaler\n",
    "import regression\n",
    "from sklearn.feature_selection import VarianceThreshold\n",
    "from sklearn.model_selection import train_test_split\n",
    "from sklearn.model_selection import KFold\n",
    "from sklearn.pipeline import make_pipeline\n",
    "from sklearn.model_selection import learning_curve\n",
    "from sklearn.model_selection import validation_curve\n",
    "from sklearn.model_selection import GridSearchCV\n",
    "from sklearn.linear_model import LinearRegression\n",
    "from sklearn.metrics import r2_score\n",
    "from sklearn.metrics import mean_squared_error\n",
    "from sklearn.linear_model import RANSACRegressor\n",
    "from sklearn.linear_model import Lasso\n",
    "from sklearn.linear_model import Ridge\n",
    "from sklearn.linear_model import ElasticNet\n",
    "from sklearn.preprocessing import PolynomialFeatures\n",
    "from sklearn.tree import DecisionTreeRegressor\n",
    "from sklearn.ensemble import RandomForestRegressor\n",
    "from sklearn.base import clone\n",
    "from itertools import combinations\n"
   ]
  },
  {
   "cell_type": "markdown",
   "id": "03c18fb2",
   "metadata": {},
   "source": [
    "## Loading Superconductors dataset"
   ]
  },
  {
   "cell_type": "code",
   "execution_count": 2,
   "id": "0639811b",
   "metadata": {},
   "outputs": [],
   "source": [
    "df = pd.read_csv('superconductors.csv')"
   ]
  },
  {
   "cell_type": "markdown",
   "id": "2ea79447",
   "metadata": {},
   "source": [
    "Heatmap"
   ]
  },
  {
   "cell_type": "code",
   "execution_count": 3,
   "id": "f64c15cc",
   "metadata": {},
   "outputs": [
    {
     "name": "stdout",
     "output_type": "stream",
     "text": [
      "(21263, 41)\n"
     ]
    }
   ],
   "source": [
    "vif_data=df.drop(['critical_temp'], axis=1)\n",
    "\n",
    "#print(f'Il VIF Massimo è {m}, corrspondente alla {m_idx}-iesima feature')\n",
    "vif=pd.DataFrame()\n",
    "vif['VIF'] = np.linalg.inv(vif_data.corr()).diagonal()\n",
    "vif['Features'] = vif_data.columns\n",
    "selected = []\n",
    "for i in range(41): \n",
    "    m_idx=vif['VIF'].idxmax()\n",
    "    selected.append(vif['Features'][m_idx])\n",
    "    vif= vif.drop([m_idx])\n",
    "    del m_idx\n",
    "\n",
    "df_selected = df.drop(selected, axis=1)\n",
    "print(df_selected.shape)"
   ]
  },
  {
   "cell_type": "code",
   "execution_count": 4,
   "id": "9881a436",
   "metadata": {},
   "outputs": [],
   "source": [
    "class SBS():\n",
    "    def __init__(self, estimator, k_features, scoring=r2_score,\n",
    "                 test_size=0.25, random_state=1):\n",
    "        self.scoring = scoring\n",
    "        self.estimator = clone(estimator)\n",
    "        self.k_features = k_features\n",
    "        self.test_size = test_size\n",
    "        self.random_state = random_state\n",
    "\n",
    "    def fit(self, X, y):\n",
    "        \n",
    "        X_train, X_test, y_train, y_test = \\\n",
    "            train_test_split(X, y, test_size=self.test_size,\n",
    "                             random_state=self.random_state)\n",
    "\n",
    "        dim = X_train.shape[1]\n",
    "        self.indices_ = tuple(range(dim))\n",
    "        self.subsets_ = [self.indices_]\n",
    "        score = self._calc_score(X_train, y_train, \n",
    "                                 X_test, y_test, self.indices_)\n",
    "        self.scores_ = [score]\n",
    "\n",
    "        while dim > self.k_features:\n",
    "            scores = []\n",
    "            subsets = []\n",
    "\n",
    "            for p in combinations(self.indices_, r=dim - 1):\n",
    "                score = self._calc_score(X_train, y_train, \n",
    "                                         X_test, y_test, p)\n",
    "                scores.append(score)\n",
    "                subsets.append(p)\n",
    "\n",
    "            best = np.argmax(scores)\n",
    "            self.indices_ = subsets[best]\n",
    "            self.subsets_.append(self.indices_)\n",
    "            dim -= 1\n",
    "\n",
    "            self.scores_.append(scores[best])\n",
    "        self.k_score_ = self.scores_[-1]\n",
    "\n",
    "        return self\n",
    "\n",
    "    def transform(self, X):\n",
    "        return X[:, self.indices_]\n",
    "\n",
    "    def _calc_score(self, X_train, y_train, X_test, y_test, indices):\n",
    "        self.estimator.fit(X_train[:, indices], y_train)\n",
    "        y_pred = self.estimator.predict(X_test[:, indices])\n",
    "        score = self.scoring(y_test, y_pred)\n",
    "        return score"
   ]
  },
  {
   "cell_type": "markdown",
   "id": "6bc5bf53",
   "metadata": {},
   "source": [
    "## Preprocessing"
   ]
  },
  {
   "cell_type": "markdown",
   "id": "83ed7198",
   "metadata": {},
   "source": [
    "#### Creating data for traininig, validation and testing"
   ]
  },
  {
   "cell_type": "code",
   "execution_count": 5,
   "id": "48b42023",
   "metadata": {},
   "outputs": [],
   "source": [
    "X, y = df.iloc[:, :81].values, df.iloc[:, 81].values\n",
    "# Holdout. Dividing dataset in two subsets: training and test.\n",
    "X_train, X_test, y_train, y_test = train_test_split(X, y, test_size=0.20, random_state=1)\n",
    "\n",
    "sc = StandardScaler()\n",
    "X_train_std = sc.fit_transform(X_train)\n",
    "X_test_std = sc.transform(X_test)"
   ]
  },
  {
   "cell_type": "markdown",
   "id": "dca9c912",
   "metadata": {},
   "source": [
    "Variance"
   ]
  },
  {
   "cell_type": "code",
   "execution_count": 88,
   "id": "8693b047",
   "metadata": {},
   "outputs": [
    {
     "name": "stdout",
     "output_type": "stream",
     "text": [
      "entropy_atomic_mass\n",
      "wtd_entropy_atomic_mass\n",
      "entropy_fie\n",
      "wtd_entropy_fie\n",
      "entropy_atomic_radius\n",
      "wtd_entropy_atomic_radius\n",
      "entropy_Density\n",
      "wtd_entropy_Density\n",
      "entropy_ElectronAffinity\n",
      "wtd_entropy_ElectronAffinity\n",
      "entropy_FusionHeat\n",
      "wtd_entropy_FusionHeat\n",
      "entropy_ThermalConductivity\n",
      "wtd_entropy_ThermalConductivity\n",
      "entropy_Valence\n",
      "wtd_entropy_Valence\n",
      "wtd_range_Valence\n",
      "std_Valence\n",
      "wtd_std_Valence\n"
     ]
    },
    {
     "data": {
      "text/plain": [
       "(21263, 62)"
      ]
     },
     "execution_count": 88,
     "metadata": {},
     "output_type": "execute_result"
    }
   ],
   "source": [
    "df_vt=df.drop(['critical_temp'], axis=1)\n",
    "var_thr = VarianceThreshold(threshold=1) #Removing both constant and quasi-constant\n",
    "var_thr.fit(df_vt)\n",
    "concol = [column for column in df_vt.columns if column not in df_vt.columns[var_thr.get_support()]]\n",
    "for features in concol:\n",
    "    print(features)\n",
    "df_vt=df_vt.drop(concol,axis=1)\n",
    "df_vt.shape"
   ]
  },
  {
   "cell_type": "code",
   "execution_count": 89,
   "id": "a05e6b12",
   "metadata": {},
   "outputs": [
    {
     "name": "stdout",
     "output_type": "stream",
     "text": [
      "61 1\n"
     ]
    }
   ],
   "source": [
    "X_v, y_v = df_vt.iloc[:, :-1].values, df.iloc[:, -1:].values\n",
    "# Holdout. Dividing dataset in two subsets: training and test.\n",
    "X_train_v, X_test_v, y_train_v, y_test_v = train_test_split(X_v, y_v, test_size=0.20, random_state=1)\n",
    "\n",
    "sc = StandardScaler()\n",
    "X_train_std_v = sc.fit_transform(X_train_v)\n",
    "X_test_std_v = sc.transform(X_test_v)\n",
    "print(len(X_v[0]),len(y_v[0]))\n"
   ]
  },
  {
   "cell_type": "code",
   "execution_count": 90,
   "id": "70ef670c",
   "metadata": {},
   "outputs": [
    {
     "name": "stdout",
     "output_type": "stream",
     "text": [
      "MSE train: 325.531, test: 333.857\n",
      "RMSE. train: 18.042, test: 18.272\n",
      "R^2 train: 0.723, test: 0.713\n"
     ]
    },
    {
     "data": {
      "text/plain": [
       "0.06499505043029785"
      ]
     },
     "execution_count": 90,
     "metadata": {},
     "output_type": "execute_result"
    }
   ],
   "source": [
    "lr = LinearRegression()\n",
    "t_0 = time()\n",
    "lr.fit(X_train_std_v, y_train_v)\n",
    "RT_lr = time()-t_0\n",
    "\n",
    "y_train_pred = lr.predict(X_train_std_v)\n",
    "y_test_pred = lr.predict(X_test_std_v)\n",
    "print('MSE train: %.3f, test: %.3f' % (mean_squared_error(y_train_v, y_train_pred),\n",
    "                                       mean_squared_error(y_test_v, y_test_pred)))\n",
    "print('RMSE. train: %.3f, test: %.3f' % (math.sqrt(mean_squared_error(y_train_v, y_train_pred)),\n",
    "                                       math.sqrt(mean_squared_error(y_test_v, y_test_pred))))\n",
    "print('R^2 train: %.3f, test: %.3f' % (r2_score(y_train_v, y_train_pred), r2_score(y_test_v, y_test_pred)))\n",
    "RT_lr"
   ]
  },
  {
   "cell_type": "code",
   "execution_count": 91,
   "id": "b304efcd",
   "metadata": {},
   "outputs": [
    {
     "name": "stderr",
     "output_type": "stream",
     "text": [
      "C:\\Users\\lipar\\AppData\\Local\\Temp/ipykernel_10608/2294197109.py:3: DataConversionWarning: A column-vector y was passed when a 1d array was expected. Please change the shape of y to (n_samples,), for example using ravel().\n",
      "  forest.fit(X_train_v, y_train_v)\n"
     ]
    },
    {
     "name": "stdout",
     "output_type": "stream",
     "text": [
      "MSE train: 37.905, test: 97.774\n",
      "RMSE. train: 6.157, test: 9.888\n",
      "R^2 train: 0.968, test: 0.916\n",
      "Running Time: 1.292081356048584\n"
     ]
    }
   ],
   "source": [
    "forest = RandomForestRegressor(n_estimators=10,max_depth=15, criterion='squared_error', random_state=1, n_jobs=-1)\n",
    "t_0= time()\n",
    "forest.fit(X_train_v, y_train_v)\n",
    "RT_forest = time()-t_0\n",
    "y_train_pred = forest.predict(X_train_v)\n",
    "y_test_pred = forest.predict(X_test_v)\n",
    "\n",
    "print('MSE train: %.3f, test: %.3f' % (mean_squared_error(y_train_v, y_train_pred),\n",
    "                                       mean_squared_error(y_test_v, y_test_pred)))\n",
    "print('RMSE. train: %.3f, test: %.3f' % (math.sqrt(mean_squared_error(y_train_v, y_train_pred)),\n",
    "                                       math.sqrt(mean_squared_error(y_test_v, y_test_pred))))\n",
    "print('R^2 train: %.3f, test: %.3f' % (r2_score(y_train_v, y_train_pred), r2_score(y_test_v, y_test_pred)))\n",
    "print('Running Time:', RT_forest)"
   ]
  },
  {
   "cell_type": "markdown",
   "id": "01c77adc",
   "metadata": {},
   "source": [
    "SBS"
   ]
  },
  {
   "cell_type": "code",
   "execution_count": 92,
   "id": "87d40943",
   "metadata": {},
   "outputs": [
    {
     "data": {
      "image/png": "[encoded data removed]",
      "text/plain": [
       "<Figure size 432x288 with 1 Axes>"
      ]
     },
     "metadata": {
      "needs_background": "light"
     },
     "output_type": "display_data"
    }
   ],
   "source": [
    "linr = LinearRegression()\n",
    "\n",
    "# selecting features\n",
    "sbs = SBS(linr, k_features=1)\n",
    "sbs.fit(X_train_std, y_train)\n",
    "\n",
    "# plotting performance of feature subsets\n",
    "k_feat = [len(k) for k in sbs.subsets_]\n",
    "\n",
    "plt.plot(k_feat, sbs.scores_, marker='o')\n",
    "plt.ylim([0, 1.\n",
    "         ])\n",
    "plt.ylabel('r2')\n",
    "plt.xlabel('Number of features')\n",
    "plt.grid()\n",
    "plt.tight_layout()\n",
    "# plt.savefig('images/04_08.png', dpi=300)\n",
    "plt.show()"
   ]
  },
  {
   "cell_type": "code",
   "execution_count": 93,
   "id": "e39b5aab",
   "metadata": {},
   "outputs": [
    {
     "name": "stdout",
     "output_type": "stream",
     "text": [
      "Index(['mean_atomic_mass', 'wtd_mean_atomic_mass', 'wtd_gmean_atomic_mass',\n",
      "       'entropy_atomic_mass', 'range_atomic_mass', 'std_fie',\n",
      "       'mean_atomic_radius', 'wtd_mean_atomic_radius',\n",
      "       'wtd_gmean_atomic_radius', 'wtd_entropy_atomic_radius',\n",
      "       'range_atomic_radius', 'std_atomic_radius', 'mean_Density',\n",
      "       'wtd_entropy_Density', 'wtd_mean_ElectronAffinity',\n",
      "       'wtd_gmean_ElectronAffinity', 'range_ElectronAffinity',\n",
      "       'std_ElectronAffinity', 'wtd_std_ElectronAffinity',\n",
      "       'wtd_mean_FusionHeat', 'wtd_gmean_FusionHeat', 'wtd_entropy_FusionHeat',\n",
      "       'wtd_range_FusionHeat', 'wtd_mean_ThermalConductivity',\n",
      "       'wtd_gmean_ThermalConductivity', 'range_ThermalConductivity',\n",
      "       'wtd_range_ThermalConductivity', 'std_ThermalConductivity',\n",
      "       'wtd_entropy_Valence', 'range_Valence', 'wtd_std_Valence'],\n",
      "      dtype='object')\n",
      "[1, 2, 4, 5, 7, 19, 21, 22, 24, 26, 27, 29, 31, 36, 42, 44, 47, 49, 50, 52, 54, 56, 58, 62, 64, 67, 68, 69, 76, 77, 80]\n"
     ]
    }
   ],
   "source": [
    "k3 = list(sbs.subsets_[50])\n",
    "print(df.columns[k3])\n",
    "print(k3)"
   ]
  },
  {
   "cell_type": "markdown",
   "id": "e4999511",
   "metadata": {},
   "source": [
    "## Regression Models"
   ]
  },
  {
   "cell_type": "markdown",
   "id": "388872c9",
   "metadata": {},
   "source": [
    "#### Simple Linear Regression"
   ]
  },
  {
   "cell_type": "code",
   "execution_count": 94,
   "id": "08738b4f",
   "metadata": {},
   "outputs": [
    {
     "name": "stdout",
     "output_type": "stream",
     "text": [
      "MSE train: 306.076, test: 318.278\n",
      "RMSE. train: 17.495, test: 17.840\n",
      "R^2 train: 0.740, test: 0.726\n"
     ]
    }
   ],
   "source": [
    "lr = LinearRegression()\n",
    "t_0 = time()\n",
    "lr.fit(X_train_std, y_train)\n",
    "RT_lr = time()-t_0\n",
    "\n",
    "y_train_pred = lr.predict(X_train_std)\n",
    "y_test_pred = lr.predict(X_test_std)\n",
    "print('MSE train: %.3f, test: %.3f' % (mean_squared_error(y_train, y_train_pred),\n",
    "                                       mean_squared_error(y_test, y_test_pred)))\n",
    "print('RMSE. train: %.3f, test: %.3f' % (math.sqrt(mean_squared_error(y_train, y_train_pred)),\n",
    "                                       math.sqrt(mean_squared_error(y_test, y_test_pred))))\n",
    "print('R^2 train: %.3f, test: %.3f' % (r2_score(y_train, y_train_pred), r2_score(y_test, y_test_pred)))"
   ]
  },
  {
   "cell_type": "code",
   "execution_count": 95,
   "id": "87b1aaa8",
   "metadata": {},
   "outputs": [
    {
     "name": "stdout",
     "output_type": "stream",
     "text": [
      "MSE train: 326.403, test: 336.533\n",
      "RMSE. train: 18.067, test: 18.345\n",
      "R^2 train: 0.722, test: 0.710\n"
     ]
    },
    {
     "data": {
      "text/plain": [
       "0.042574405670166016"
      ]
     },
     "execution_count": 95,
     "metadata": {},
     "output_type": "execute_result"
    }
   ],
   "source": [
    "lr = LinearRegression()\n",
    "t_0 = time()\n",
    "lr.fit(X_train_std[:, k3], y_train)\n",
    "RT_lr = time()-t_0\n",
    "\n",
    "y_train_pred = lr.predict(X_train_std[:, k3])\n",
    "y_test_pred = lr.predict(X_test_std[:, k3])\n",
    "print('MSE train: %.3f, test: %.3f' % (mean_squared_error(y_train, y_train_pred),\n",
    "                                       mean_squared_error(y_test, y_test_pred)))\n",
    "print('RMSE. train: %.3f, test: %.3f' % (math.sqrt(mean_squared_error(y_train, y_train_pred)),\n",
    "                                       math.sqrt(mean_squared_error(y_test, y_test_pred))))\n",
    "print('R^2 train: %.3f, test: %.3f' % (r2_score(y_train, y_train_pred), r2_score(y_test, y_test_pred)))\n",
    "RT_lr"
   ]
  },
  {
   "cell_type": "markdown",
   "id": "29b8a5a8",
   "metadata": {},
   "source": [
    "## Non Linear Regression"
   ]
  },
  {
   "cell_type": "markdown",
   "id": "a2537f44",
   "metadata": {},
   "source": [
    "#### Decision Tree"
   ]
  },
  {
   "cell_type": "code",
   "execution_count": 96,
   "id": "23d53d5c",
   "metadata": {},
   "outputs": [
    {
     "name": "stdout",
     "output_type": "stream",
     "text": [
      "Ridge MSE train: 71.745, test: 152.380\n",
      "RMSE. train: 8.470, test: 12.344\n",
      "Ridge R^2 train: 0.939, test: 0.869\n"
     ]
    }
   ],
   "source": [
    "tree = DecisionTreeRegressor(max_depth=12)\n",
    "t_0= time()\n",
    "tree.fit(X_train, y_train)\n",
    "RT_tree = time()-t_0\n",
    "\n",
    "y_train_pred = tree.predict(X_train)\n",
    "y_test_pred = tree.predict(X_test)\n",
    "#print(ridge.coef_)\n",
    "print('Ridge MSE train: %.3f, test: %.3f' % (mean_squared_error(y_train, y_train_pred),\n",
    "                                             mean_squared_error(y_test, y_test_pred)))\n",
    "print('RMSE. train: %.3f, test: %.3f' % (math.sqrt(mean_squared_error(y_train, y_train_pred)),\n",
    "                                       math.sqrt(mean_squared_error(y_test, y_test_pred))))\n",
    "print('Ridge R^2 train: %.3f, test: %.3f' % (r2_score(y_train, y_train_pred), r2_score(y_test, y_test_pred)))"
   ]
  },
  {
   "cell_type": "code",
   "execution_count": 11,
   "id": "1992d443",
   "metadata": {},
   "outputs": [
    {
     "data": {
      "image/png": "[encoded data removed]",
      "text/plain": [
       "<Figure size 432x288 with 1 Axes>"
      ]
     },
     "metadata": {
      "needs_background": "light"
     },
     "output_type": "display_data"
    }
   ],
   "source": [
    "param_range = np.linspace(1, 100, 20)\n",
    "train_scores, test_scores = validation_curve(estimator=DecisionTreeRegressor(), X=X_train, y=y_train,\n",
    "                                             param_name='max_depth', param_range=param_range, cv=5,\n",
    "                                            scoring='r2')\n",
    "\n",
    "train_mean, train_std = np.mean(train_scores, axis=1), np.std(train_scores, axis=1)\n",
    "test_mean, test_std  = np.mean(test_scores, axis=1), np.std(test_scores, axis=1)\n",
    "\n",
    "plt.plot(param_range, train_mean, color='blue', marker='o', markersize=5, label='Training R2')\n",
    "plt.fill_between(param_range, train_mean + train_std, train_mean - train_std, alpha=0.15, color='blue')\n",
    "plt.plot(param_range, test_mean, color='green', linestyle='--', marker='s', markersize=5, \n",
    "         label='Validation R2')\n",
    "plt.fill_between(param_range, test_mean + test_std,test_mean - test_std, alpha=0.15, color='green')\n",
    "\n",
    "plt.grid()\n",
    "plt.xscale('log')\n",
    "plt.legend(loc='lower right')\n",
    "plt.xlabel('Parameter max depth')\n",
    "plt.ylabel('R2')\n",
    "plt.tight_layout()\n",
    "# plt.savefig('images/06_06.png', dpi=300)\n",
    "plt.show()"
   ]
  },
  {
   "cell_type": "code",
   "execution_count": 12,
   "id": "5081de52",
   "metadata": {},
   "outputs": [
    {
     "name": "stdout",
     "output_type": "stream",
     "text": [
      "Ridge MSE train: 230.790, test: 254.469\n",
      "RMSE. train: 15.192, test: 15.952\n",
      "Ridge R^2 train: 0.804, test: 0.781\n"
     ]
    }
   ],
   "source": [
    "tree = DecisionTreeRegressor(max_depth=12)\n",
    "t_0= time()\n",
    "tree.fit(X_train[:, k3], y_train)\n",
    "RT_tree = time()-t_0\n",
    "\n",
    "y_train_pred = tree.predict(X_train[:, k3])\n",
    "y_test_pred = tree.predict(X_test[:, k3])\n",
    "#print(ridge.coef_)\n",
    "print('Ridge MSE train: %.3f, test: %.3f' % (mean_squared_error(y_train, y_train_pred),\n",
    "                                             mean_squared_error(y_test, y_test_pred)))\n",
    "print('RMSE. train: %.3f, test: %.3f' % (math.sqrt(mean_squared_error(y_train, y_train_pred)),\n",
    "                                       math.sqrt(mean_squared_error(y_test, y_test_pred))))\n",
    "print('Ridge R^2 train: %.3f, test: %.3f' % (r2_score(y_train, y_train_pred), r2_score(y_test, y_test_pred)))"
   ]
  },
  {
   "cell_type": "code",
   "execution_count": 13,
   "id": "d81d7434",
   "metadata": {},
   "outputs": [
    {
     "data": {
      "image/png": "[encoded data removed]",
      "text/plain": [
       "<Figure size 432x288 with 1 Axes>"
      ]
     },
     "metadata": {
      "needs_background": "light"
     },
     "output_type": "display_data"
    }
   ],
   "source": [
    "param_range = np.linspace(1, 100, 20)\n",
    "train_scores, test_scores = validation_curve(estimator=DecisionTreeRegressor(), X=X_train, y=y_train,\n",
    "                                             param_name='max_depth', param_range=param_range, cv=5,\n",
    "                                            scoring='r2')\n",
    "\n",
    "train_mean, train_std = np.mean(train_scores, axis=1), np.std(train_scores, axis=1)\n",
    "test_mean, test_std  = np.mean(test_scores, axis=1), np.std(test_scores, axis=1)\n",
    "\n",
    "plt.plot(param_range, train_mean, color='blue', marker='o', markersize=5, label='Training R2')\n",
    "plt.fill_between(param_range, train_mean + train_std, train_mean - train_std, alpha=0.15, color='blue')\n",
    "plt.plot(param_range, test_mean, color='green', linestyle='--', marker='s', markersize=5, \n",
    "         label='Validation R2')\n",
    "plt.fill_between(param_range, test_mean + test_std,test_mean - test_std, alpha=0.15, color='green')\n",
    "\n",
    "plt.grid()\n",
    "plt.xscale('log')\n",
    "plt.legend(loc='lower right')\n",
    "plt.xlabel('Parameter max depth')\n",
    "plt.ylabel('R2')\n",
    "plt.tight_layout()\n",
    "# plt.savefig('images/06_06.png', dpi=300)\n",
    "plt.show()"
   ]
  },
  {
   "cell_type": "markdown",
   "id": "17f2f117",
   "metadata": {},
   "source": [
    "#### Random Forest"
   ]
  },
  {
   "cell_type": "code",
   "execution_count": 21,
   "id": "60dda36c",
   "metadata": {},
   "outputs": [
    {
     "name": "stdout",
     "output_type": "stream",
     "text": [
      "MSE train: 37.101, test: 98.283\n",
      "RMSE. train: 6.091, test: 9.914\n",
      "R^2 train: 0.968, test: 0.915\n",
      "Running Time: 1.8061697483062744\n"
     ]
    }
   ],
   "source": [
    "forest = RandomForestRegressor(n_estimators=10,max_depth=15, criterion='squared_error', random_state=1, n_jobs=-1)\n",
    "t_0= time()\n",
    "forest.fit(X_train, y_train)\n",
    "RT_forest = time()-t_0\n",
    "y_train_pred = forest.predict(X_train)\n",
    "y_test_pred = forest.predict(X_test)\n",
    "\n",
    "print('MSE train: %.3f, test: %.3f' % (mean_squared_error(y_train, y_train_pred),\n",
    "                                       mean_squared_error(y_test, y_test_pred)))\n",
    "print('RMSE. train: %.3f, test: %.3f' % (math.sqrt(mean_squared_error(y_train, y_train_pred)),\n",
    "                                       math.sqrt(mean_squared_error(y_test, y_test_pred))))\n",
    "print('R^2 train: %.3f, test: %.3f' % (r2_score(y_train, y_train_pred), r2_score(y_test, y_test_pred)))\n",
    "print('Running Time:', RT_forest)"
   ]
  },
  {
   "cell_type": "code",
   "execution_count": 19,
   "id": "dc9350e2",
   "metadata": {},
   "outputs": [
    {
     "name": "stdout",
     "output_type": "stream",
     "text": [
      "MSE train: 37.686, test: 93.768\n",
      "RMSE. train: 6.139, test: 9.683\n",
      "R^2 train: 0.968, test: 0.919\n",
      "Running Time: 0.7354130744934082\n"
     ]
    }
   ],
   "source": [
    "forest = RandomForestRegressor(n_estimators=10,max_depth=16, criterion='squared_error', random_state=1, n_jobs=-1)\n",
    "t_0= time()\n",
    "forest.fit(X_train[:, k3], y_train)\n",
    "RT_forest2 = time()-t_0\n",
    "y_train_pred = forest.predict(X_train[:, k3])\n",
    "y_test_pred = forest.predict(X_test[:, k3])\n",
    "\n",
    "print('MSE train: %.3f, test: %.3f' % (mean_squared_error(y_train, y_train_pred),\n",
    "                                       mean_squared_error(y_test, y_test_pred)))\n",
    "print('RMSE. train: %.3f, test: %.3f' % (math.sqrt(mean_squared_error(y_train, y_train_pred)),\n",
    "                                       math.sqrt(mean_squared_error(y_test, y_test_pred))))\n",
    "print('R^2 train: %.3f, test: %.3f' % (r2_score(y_train, y_train_pred), r2_score(y_test, y_test_pred)))\n",
    "print('Running Time:', RT_forest2)"
   ]
  },
  {
   "cell_type": "code",
   "execution_count": 16,
   "id": "01071281",
   "metadata": {},
   "outputs": [
    {
     "data": {
      "image/png": "[encoded data removed]",
      "text/plain": [
       "<Figure size 432x288 with 1 Axes>"
      ]
     },
     "metadata": {
      "needs_background": "light"
     },
     "output_type": "display_data"
    }
   ],
   "source": [
    "param_range = np.linspace(1, 50, 10)\n",
    "train_scores, test_scores = validation_curve(estimator=RandomForestRegressor(), X=X_train, y=y_train,\n",
    "                                             param_name='max_depth', param_range=param_range, cv=5,\n",
    "                                            scoring='r2')\n",
    "\n",
    "train_mean, train_std = np.mean(train_scores, axis=1), np.std(train_scores, axis=1)\n",
    "test_mean, test_std  = np.mean(test_scores, axis=1), np.std(test_scores, axis=1)\n",
    "\n",
    "plt.plot(param_range, train_mean, color='blue', marker='o', markersize=5, label='Training R2')\n",
    "plt.fill_between(param_range, train_mean + train_std, train_mean - train_std, alpha=0.15, color='blue')\n",
    "plt.plot(param_range, test_mean, color='green', linestyle='--', marker='s', markersize=5, \n",
    "         label='Validation R2')\n",
    "plt.fill_between(param_range, test_mean + test_std,test_mean - test_std, alpha=0.15, color='green')\n",
    "\n",
    "plt.grid()\n",
    "\n",
    "plt.legend(loc='lower right')\n",
    "plt.xlabel('number of trees in the forest')\n",
    "plt.ylabel('R2')\n",
    "plt.tight_layout()\n",
    "# plt.savefig('images/06_06.png', dpi=300)\n",
    "plt.show()"
   ]
  },
  {
   "cell_type": "code",
   "execution_count": 17,
   "id": "b5d925c2",
   "metadata": {},
   "outputs": [
    {
     "ename": "ValueError",
     "evalue": "shape mismatch: objects cannot be broadcast to a single shape",
     "output_type": "error",
     "traceback": [
      "\u001b[1;31m---------------------------------------------------------------------------\u001b[0m",
      "\u001b[1;31mValueError\u001b[0m                                Traceback (most recent call last)",
      "\u001b[1;32m~\\AppData\\Local\\Temp/ipykernel_10608/502143679.py\u001b[0m in \u001b[0;36m<module>\u001b[1;34m\u001b[0m\n\u001b[1;32m----> 1\u001b[1;33m \u001b[0mplt\u001b[0m\u001b[1;33m.\u001b[0m\u001b[0mbar\u001b[0m\u001b[1;33m(\u001b[0m\u001b[0mrange\u001b[0m\u001b[1;33m(\u001b[0m\u001b[1;36m0\u001b[0m\u001b[1;33m,\u001b[0m \u001b[1;36m60\u001b[0m\u001b[1;33m)\u001b[0m\u001b[1;33m,\u001b[0m \u001b[0mforest\u001b[0m\u001b[1;33m.\u001b[0m\u001b[0mfeature_importances_\u001b[0m\u001b[1;33m,\u001b[0m \u001b[0malpha\u001b[0m\u001b[1;33m=\u001b[0m\u001b[1;36m1\u001b[0m\u001b[1;33m,\u001b[0m \u001b[0malign\u001b[0m\u001b[1;33m=\u001b[0m\u001b[1;34m'center'\u001b[0m\u001b[1;33m)\u001b[0m\u001b[1;33m\u001b[0m\u001b[1;33m\u001b[0m\u001b[0m\n\u001b[0m\u001b[0;32m      2\u001b[0m \u001b[1;33m\u001b[0m\u001b[0m\n\u001b[0;32m      3\u001b[0m \u001b[0mplt\u001b[0m\u001b[1;33m.\u001b[0m\u001b[0mylabel\u001b[0m\u001b[1;33m(\u001b[0m\u001b[1;34m'Explained variance ratio'\u001b[0m\u001b[1;33m)\u001b[0m\u001b[1;33m\u001b[0m\u001b[1;33m\u001b[0m\u001b[0m\n\u001b[0;32m      4\u001b[0m \u001b[0mplt\u001b[0m\u001b[1;33m.\u001b[0m\u001b[0mxlabel\u001b[0m\u001b[1;33m(\u001b[0m\u001b[1;34m'Principal components'\u001b[0m\u001b[1;33m)\u001b[0m\u001b[1;33m\u001b[0m\u001b[1;33m\u001b[0m\u001b[0m\n\u001b[0;32m      5\u001b[0m \u001b[0mplt\u001b[0m\u001b[1;33m.\u001b[0m\u001b[0mshow\u001b[0m\u001b[1;33m(\u001b[0m\u001b[1;33m)\u001b[0m\u001b[1;33m\u001b[0m\u001b[1;33m\u001b[0m\u001b[0m\n",
      "\u001b[1;32m~\\anaconda3\\envs\\AI\\lib\\site-packages\\matplotlib\\pyplot.py\u001b[0m in \u001b[0;36mbar\u001b[1;34m(x, height, width, bottom, align, data, **kwargs)\u001b[0m\n\u001b[0;32m   2649\u001b[0m         \u001b[0mx\u001b[0m\u001b[1;33m,\u001b[0m \u001b[0mheight\u001b[0m\u001b[1;33m,\u001b[0m \u001b[0mwidth\u001b[0m\u001b[1;33m=\u001b[0m\u001b[1;36m0.8\u001b[0m\u001b[1;33m,\u001b[0m \u001b[0mbottom\u001b[0m\u001b[1;33m=\u001b[0m\u001b[1;32mNone\u001b[0m\u001b[1;33m,\u001b[0m \u001b[1;33m*\u001b[0m\u001b[1;33m,\u001b[0m \u001b[0malign\u001b[0m\u001b[1;33m=\u001b[0m\u001b[1;34m'center'\u001b[0m\u001b[1;33m,\u001b[0m\u001b[1;33m\u001b[0m\u001b[1;33m\u001b[0m\u001b[0m\n\u001b[0;32m   2650\u001b[0m         data=None, **kwargs):\n\u001b[1;32m-> 2651\u001b[1;33m     return gca().bar(\n\u001b[0m\u001b[0;32m   2652\u001b[0m         \u001b[0mx\u001b[0m\u001b[1;33m,\u001b[0m \u001b[0mheight\u001b[0m\u001b[1;33m,\u001b[0m \u001b[0mwidth\u001b[0m\u001b[1;33m=\u001b[0m\u001b[0mwidth\u001b[0m\u001b[1;33m,\u001b[0m \u001b[0mbottom\u001b[0m\u001b[1;33m=\u001b[0m\u001b[0mbottom\u001b[0m\u001b[1;33m,\u001b[0m \u001b[0malign\u001b[0m\u001b[1;33m=\u001b[0m\u001b[0malign\u001b[0m\u001b[1;33m,\u001b[0m\u001b[1;33m\u001b[0m\u001b[1;33m\u001b[0m\u001b[0m\n\u001b[0;32m   2653\u001b[0m         **({\"data\": data} if data is not None else {}), **kwargs)\n",
      "\u001b[1;32m~\\anaconda3\\envs\\AI\\lib\\site-packages\\matplotlib\\__init__.py\u001b[0m in \u001b[0;36minner\u001b[1;34m(ax, data, *args, **kwargs)\u001b[0m\n\u001b[0;32m   1359\u001b[0m     \u001b[1;32mdef\u001b[0m \u001b[0minner\u001b[0m\u001b[1;33m(\u001b[0m\u001b[0max\u001b[0m\u001b[1;33m,\u001b[0m \u001b[1;33m*\u001b[0m\u001b[0margs\u001b[0m\u001b[1;33m,\u001b[0m \u001b[0mdata\u001b[0m\u001b[1;33m=\u001b[0m\u001b[1;32mNone\u001b[0m\u001b[1;33m,\u001b[0m \u001b[1;33m**\u001b[0m\u001b[0mkwargs\u001b[0m\u001b[1;33m)\u001b[0m\u001b[1;33m:\u001b[0m\u001b[1;33m\u001b[0m\u001b[1;33m\u001b[0m\u001b[0m\n\u001b[0;32m   1360\u001b[0m         \u001b[1;32mif\u001b[0m \u001b[0mdata\u001b[0m \u001b[1;32mis\u001b[0m \u001b[1;32mNone\u001b[0m\u001b[1;33m:\u001b[0m\u001b[1;33m\u001b[0m\u001b[1;33m\u001b[0m\u001b[0m\n\u001b[1;32m-> 1361\u001b[1;33m             \u001b[1;32mreturn\u001b[0m \u001b[0mfunc\u001b[0m\u001b[1;33m(\u001b[0m\u001b[0max\u001b[0m\u001b[1;33m,\u001b[0m \u001b[1;33m*\u001b[0m\u001b[0mmap\u001b[0m\u001b[1;33m(\u001b[0m\u001b[0msanitize_sequence\u001b[0m\u001b[1;33m,\u001b[0m \u001b[0margs\u001b[0m\u001b[1;33m)\u001b[0m\u001b[1;33m,\u001b[0m \u001b[1;33m**\u001b[0m\u001b[0mkwargs\u001b[0m\u001b[1;33m)\u001b[0m\u001b[1;33m\u001b[0m\u001b[1;33m\u001b[0m\u001b[0m\n\u001b[0m\u001b[0;32m   1362\u001b[0m \u001b[1;33m\u001b[0m\u001b[0m\n\u001b[0;32m   1363\u001b[0m         \u001b[0mbound\u001b[0m \u001b[1;33m=\u001b[0m \u001b[0mnew_sig\u001b[0m\u001b[1;33m.\u001b[0m\u001b[0mbind\u001b[0m\u001b[1;33m(\u001b[0m\u001b[0max\u001b[0m\u001b[1;33m,\u001b[0m \u001b[1;33m*\u001b[0m\u001b[0margs\u001b[0m\u001b[1;33m,\u001b[0m \u001b[1;33m**\u001b[0m\u001b[0mkwargs\u001b[0m\u001b[1;33m)\u001b[0m\u001b[1;33m\u001b[0m\u001b[1;33m\u001b[0m\u001b[0m\n",
      "\u001b[1;32m~\\anaconda3\\envs\\AI\\lib\\site-packages\\matplotlib\\axes\\_axes.py\u001b[0m in \u001b[0;36mbar\u001b[1;34m(self, x, height, width, bottom, align, **kwargs)\u001b[0m\n\u001b[0;32m   2302\u001b[0m                 \u001b[0myerr\u001b[0m \u001b[1;33m=\u001b[0m \u001b[0mself\u001b[0m\u001b[1;33m.\u001b[0m\u001b[0m_convert_dx\u001b[0m\u001b[1;33m(\u001b[0m\u001b[0myerr\u001b[0m\u001b[1;33m,\u001b[0m \u001b[0my0\u001b[0m\u001b[1;33m,\u001b[0m \u001b[0my\u001b[0m\u001b[1;33m,\u001b[0m \u001b[0mself\u001b[0m\u001b[1;33m.\u001b[0m\u001b[0mconvert_yunits\u001b[0m\u001b[1;33m)\u001b[0m\u001b[1;33m\u001b[0m\u001b[1;33m\u001b[0m\u001b[0m\n\u001b[0;32m   2303\u001b[0m \u001b[1;33m\u001b[0m\u001b[0m\n\u001b[1;32m-> 2304\u001b[1;33m         x, height, width, y, linewidth, hatch = np.broadcast_arrays(\n\u001b[0m\u001b[0;32m   2305\u001b[0m             \u001b[1;31m# Make args iterable too.\u001b[0m\u001b[1;33m\u001b[0m\u001b[1;33m\u001b[0m\u001b[1;33m\u001b[0m\u001b[0m\n\u001b[0;32m   2306\u001b[0m             np.atleast_1d(x), height, width, y, linewidth, hatch)\n",
      "\u001b[1;32m<__array_function__ internals>\u001b[0m in \u001b[0;36mbroadcast_arrays\u001b[1;34m(*args, **kwargs)\u001b[0m\n",
      "\u001b[1;32m~\\anaconda3\\envs\\AI\\lib\\site-packages\\numpy\\lib\\stride_tricks.py\u001b[0m in \u001b[0;36mbroadcast_arrays\u001b[1;34m(subok, *args)\u001b[0m\n\u001b[0;32m    536\u001b[0m     \u001b[0margs\u001b[0m \u001b[1;33m=\u001b[0m \u001b[1;33m[\u001b[0m\u001b[0mnp\u001b[0m\u001b[1;33m.\u001b[0m\u001b[0marray\u001b[0m\u001b[1;33m(\u001b[0m\u001b[0m_m\u001b[0m\u001b[1;33m,\u001b[0m \u001b[0mcopy\u001b[0m\u001b[1;33m=\u001b[0m\u001b[1;32mFalse\u001b[0m\u001b[1;33m,\u001b[0m \u001b[0msubok\u001b[0m\u001b[1;33m=\u001b[0m\u001b[0msubok\u001b[0m\u001b[1;33m)\u001b[0m \u001b[1;32mfor\u001b[0m \u001b[0m_m\u001b[0m \u001b[1;32min\u001b[0m \u001b[0margs\u001b[0m\u001b[1;33m]\u001b[0m\u001b[1;33m\u001b[0m\u001b[1;33m\u001b[0m\u001b[0m\n\u001b[0;32m    537\u001b[0m \u001b[1;33m\u001b[0m\u001b[0m\n\u001b[1;32m--> 538\u001b[1;33m     \u001b[0mshape\u001b[0m \u001b[1;33m=\u001b[0m \u001b[0m_broadcast_shape\u001b[0m\u001b[1;33m(\u001b[0m\u001b[1;33m*\u001b[0m\u001b[0margs\u001b[0m\u001b[1;33m)\u001b[0m\u001b[1;33m\u001b[0m\u001b[1;33m\u001b[0m\u001b[0m\n\u001b[0m\u001b[0;32m    539\u001b[0m \u001b[1;33m\u001b[0m\u001b[0m\n\u001b[0;32m    540\u001b[0m     \u001b[1;32mif\u001b[0m \u001b[0mall\u001b[0m\u001b[1;33m(\u001b[0m\u001b[0marray\u001b[0m\u001b[1;33m.\u001b[0m\u001b[0mshape\u001b[0m \u001b[1;33m==\u001b[0m \u001b[0mshape\u001b[0m \u001b[1;32mfor\u001b[0m \u001b[0marray\u001b[0m \u001b[1;32min\u001b[0m \u001b[0margs\u001b[0m\u001b[1;33m)\u001b[0m\u001b[1;33m:\u001b[0m\u001b[1;33m\u001b[0m\u001b[1;33m\u001b[0m\u001b[0m\n",
      "\u001b[1;32m~\\anaconda3\\envs\\AI\\lib\\site-packages\\numpy\\lib\\stride_tricks.py\u001b[0m in \u001b[0;36m_broadcast_shape\u001b[1;34m(*args)\u001b[0m\n\u001b[0;32m    418\u001b[0m     \u001b[1;31m# use the old-iterator because np.nditer does not handle size 0 arrays\u001b[0m\u001b[1;33m\u001b[0m\u001b[1;33m\u001b[0m\u001b[1;33m\u001b[0m\u001b[0m\n\u001b[0;32m    419\u001b[0m     \u001b[1;31m# consistently\u001b[0m\u001b[1;33m\u001b[0m\u001b[1;33m\u001b[0m\u001b[1;33m\u001b[0m\u001b[0m\n\u001b[1;32m--> 420\u001b[1;33m     \u001b[0mb\u001b[0m \u001b[1;33m=\u001b[0m \u001b[0mnp\u001b[0m\u001b[1;33m.\u001b[0m\u001b[0mbroadcast\u001b[0m\u001b[1;33m(\u001b[0m\u001b[1;33m*\u001b[0m\u001b[0margs\u001b[0m\u001b[1;33m[\u001b[0m\u001b[1;33m:\u001b[0m\u001b[1;36m32\u001b[0m\u001b[1;33m]\u001b[0m\u001b[1;33m)\u001b[0m\u001b[1;33m\u001b[0m\u001b[1;33m\u001b[0m\u001b[0m\n\u001b[0m\u001b[0;32m    421\u001b[0m     \u001b[1;31m# unfortunately, it cannot handle 32 or more arguments directly\u001b[0m\u001b[1;33m\u001b[0m\u001b[1;33m\u001b[0m\u001b[1;33m\u001b[0m\u001b[0m\n\u001b[0;32m    422\u001b[0m     \u001b[1;32mfor\u001b[0m \u001b[0mpos\u001b[0m \u001b[1;32min\u001b[0m \u001b[0mrange\u001b[0m\u001b[1;33m(\u001b[0m\u001b[1;36m32\u001b[0m\u001b[1;33m,\u001b[0m \u001b[0mlen\u001b[0m\u001b[1;33m(\u001b[0m\u001b[0margs\u001b[0m\u001b[1;33m)\u001b[0m\u001b[1;33m,\u001b[0m \u001b[1;36m31\u001b[0m\u001b[1;33m)\u001b[0m\u001b[1;33m:\u001b[0m\u001b[1;33m\u001b[0m\u001b[1;33m\u001b[0m\u001b[0m\n",
      "\u001b[1;31mValueError\u001b[0m: shape mismatch: objects cannot be broadcast to a single shape"
     ]
    },
    {
     "data": {
      "image/png": "[encoded data removed]",
      "text/plain": [
       "<Figure size 432x288 with 1 Axes>"
      ]
     },
     "metadata": {
      "needs_background": "light"
     },
     "output_type": "display_data"
    }
   ],
   "source": [
    "plt.bar(range(0, 60), forest.feature_importances_, alpha=1, align='center')\n",
    "\n",
    "plt.ylabel('Explained variance ratio')\n",
    "plt.xlabel('Principal components')\n",
    "plt.show()\n",
    "\n",
    "#sorted(forest.feature_importances_,reverse=True)"
   ]
  },
  {
   "cell_type": "markdown",
   "id": "8e65b29a",
   "metadata": {},
   "source": [
    "## Feature Selection"
   ]
  },
  {
   "cell_type": "code",
   "execution_count": null,
   "id": "033a7a34",
   "metadata": {},
   "outputs": [],
   "source": [
    "best_features_ind = np.argsort(forest.feature_importances_)[-25:]\n",
    "best_features = df.columns[best_features_ind]"
   ]
  },
  {
   "cell_type": "code",
   "execution_count": null,
   "id": "7ef89001",
   "metadata": {},
   "outputs": [],
   "source": [
    "print(best_features)"
   ]
  },
  {
   "cell_type": "markdown",
   "id": "a1900150",
   "metadata": {},
   "source": [
    "#### Linear Regression FS"
   ]
  },
  {
   "cell_type": "markdown",
   "id": "8cf87f6f",
   "metadata": {},
   "source": [
    "## Running Time"
   ]
  },
  {
   "cell_type": "code",
   "execution_count": null,
   "id": "defc3325",
   "metadata": {},
   "outputs": [],
   "source": [
    "duration = [RT_lr, RT_Lasso, RT_Ridge, RT_ransac,RT_tree, RT_forest,RT_svm]\n",
    "plt.bar(['LinR','Lasso', 'Ridge','RANSAC','Tree', 'Forest','SVM'], duration, alpha=1, align='center')\n",
    "plt.ylabel('time in s')\n",
    "plt.xlabel('Regression Model')\n",
    "plt.show()"
   ]
  },
  {
   "cell_type": "code",
   "execution_count": null,
   "id": "4ac1d00d",
   "metadata": {},
   "outputs": [],
   "source": []
  }
 ],
 "metadata": {
  "kernelspec": {
   "display_name": "Python 3 (ipykernel)",
   "language": "python",
   "name": "python3"
  },
  "language_info": {
   "codemirror_mode": {
    "name": "ipython",
    "version": 3
   },
   "file_extension": ".py",
   "mimetype": "text/x-python",
   "name": "python",
   "nbconvert_exporter": "python",
   "pygments_lexer": "ipython3",
   "version": "3.8.11"
  }
 },
 "nbformat": 4,
 "nbformat_minor": 5
}
